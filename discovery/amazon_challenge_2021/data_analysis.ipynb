{
 "cells": [
  {
   "cell_type": "code",
   "execution_count": 58,
   "metadata": {},
   "outputs": [],
   "source": [
    "import json\n",
    "import math\n",
    "from os import path\n",
    "\n",
    "import numpy as np\n",
    "import pandas as pd"
   ]
  },
  {
   "cell_type": "code",
   "execution_count": 5,
   "metadata": {},
   "outputs": [],
   "source": [
    "training_data_folder = \"/Users/gokhanceyhan/work/data/almrrc2021/almrrc2021-data-training/model_build_inputs\""
   ]
  },
  {
   "cell_type": "code",
   "execution_count": 6,
   "metadata": {},
   "outputs": [],
   "source": [
    "with open(path.join(training_data_folder, \"route_data.json\")) as f:\n",
    "    route_data_tr_json = json.load(f)"
   ]
  },
  {
   "cell_type": "code",
   "execution_count": 7,
   "metadata": {},
   "outputs": [],
   "source": [
    "with open(path.join(training_data_folder, \"travel_times.json\")) as f:\n",
    "    travel_times_tr_json = json.load(f)"
   ]
  },
  {
   "cell_type": "code",
   "execution_count": 8,
   "metadata": {},
   "outputs": [],
   "source": [
    "with open(path.join(training_data_folder, \"actual_sequences.json\")) as f:\n",
    "    actual_sequences_tr_json = json.load(f)"
   ]
  },
  {
   "cell_type": "code",
   "execution_count": 9,
   "metadata": {},
   "outputs": [],
   "source": [
    "with open(path.join(training_data_folder, \"package_data.json\")) as f:\n",
    "    package_data_tr_json = json.load(f)"
   ]
  },
  {
   "cell_type": "code",
   "execution_count": 10,
   "metadata": {},
   "outputs": [],
   "source": [
    "with open(path.join(training_data_folder, \"invalid_sequence_scores.json\")) as f:\n",
    "    invalid_sequence_scores_tr = json.load(f)"
   ]
  },
  {
   "cell_type": "code",
   "execution_count": 11,
   "metadata": {},
   "outputs": [],
   "source": [
    "route_data_tr = pd.DataFrame.from_records(route_data_tr_json).transpose()"
   ]
  },
  {
   "cell_type": "code",
   "execution_count": 12,
   "metadata": {},
   "outputs": [],
   "source": [
    "travel_times_tr = pd.DataFrame.from_records(travel_times_tr_json).transpose()"
   ]
  },
  {
   "cell_type": "code",
   "execution_count": 13,
   "metadata": {},
   "outputs": [],
   "source": [
    "actual_sequences_tr = pd.DataFrame.from_records(actual_sequences_tr_json).transpose()"
   ]
  },
  {
   "cell_type": "code",
   "execution_count": 14,
   "metadata": {},
   "outputs": [],
   "source": [
    "package_data_tr = pd.DataFrame.from_records(package_data_tr_json)"
   ]
  },
  {
   "cell_type": "code",
   "execution_count": 15,
   "metadata": {},
   "outputs": [
    {
     "data": {
      "text/html": [
       "<div>\n",
       "<style scoped>\n",
       "    .dataframe tbody tr th:only-of-type {\n",
       "        vertical-align: middle;\n",
       "    }\n",
       "\n",
       "    .dataframe tbody tr th {\n",
       "        vertical-align: top;\n",
       "    }\n",
       "\n",
       "    .dataframe thead th {\n",
       "        text-align: right;\n",
       "    }\n",
       "</style>\n",
       "<table border=\"1\" class=\"dataframe\">\n",
       "  <thead>\n",
       "    <tr style=\"text-align: right;\">\n",
       "      <th></th>\n",
       "      <th>station_code</th>\n",
       "      <th>date_YYYY_MM_DD</th>\n",
       "      <th>departure_time_utc</th>\n",
       "      <th>executor_capacity_cm3</th>\n",
       "      <th>route_score</th>\n",
       "      <th>stops</th>\n",
       "    </tr>\n",
       "  </thead>\n",
       "  <tbody>\n",
       "    <tr>\n",
       "      <th>RouteID_00143bdd-0a6b-49ec-bb35-36593d303e77</th>\n",
       "      <td>DLA3</td>\n",
       "      <td>2018-07-27</td>\n",
       "      <td>16:02:10</td>\n",
       "      <td>3313071.0</td>\n",
       "      <td>High</td>\n",
       "      <td>{'AD': {'lat': 34.099611, 'lng': -118.283062, ...</td>\n",
       "    </tr>\n",
       "    <tr>\n",
       "      <th>RouteID_0016bc70-cb8d-48b0-aa55-8ee50bdcdb59</th>\n",
       "      <td>DSE4</td>\n",
       "      <td>2018-07-28</td>\n",
       "      <td>15:44:41</td>\n",
       "      <td>4247527.0</td>\n",
       "      <td>High</td>\n",
       "      <td>{'AC': {'lat': 47.689446, 'lng': -122.296071, ...</td>\n",
       "    </tr>\n",
       "    <tr>\n",
       "      <th>RouteID_001948e9-4675-486d-9ec5-912fd8e0770f</th>\n",
       "      <td>DSE5</td>\n",
       "      <td>2018-08-18</td>\n",
       "      <td>15:32:04</td>\n",
       "      <td>4247527.0</td>\n",
       "      <td>High</td>\n",
       "      <td>{'AA': {'lat': 47.268001, 'lng': -122.5079, 't...</td>\n",
       "    </tr>\n",
       "    <tr>\n",
       "      <th>RouteID_001b4ee3-c4f2-467f-932b-c85524d1021f</th>\n",
       "      <td>DLA9</td>\n",
       "      <td>2018-08-15</td>\n",
       "      <td>15:09:38</td>\n",
       "      <td>3313071.0</td>\n",
       "      <td>High</td>\n",
       "      <td>{'AB': {'lat': 33.823076, 'lng': -118.058727, ...</td>\n",
       "    </tr>\n",
       "    <tr>\n",
       "      <th>RouteID_0021a2aa-780f-460d-b09a-f301709e2523</th>\n",
       "      <td>DLA7</td>\n",
       "      <td>2018-08-05</td>\n",
       "      <td>14:23:26</td>\n",
       "      <td>3313071.0</td>\n",
       "      <td>High</td>\n",
       "      <td>{'AA': {'lat': 33.84364, 'lng': -117.773651, '...</td>\n",
       "    </tr>\n",
       "  </tbody>\n",
       "</table>\n",
       "</div>"
      ],
      "text/plain": [
       "                                             station_code date_YYYY_MM_DD  \\\n",
       "RouteID_00143bdd-0a6b-49ec-bb35-36593d303e77         DLA3      2018-07-27   \n",
       "RouteID_0016bc70-cb8d-48b0-aa55-8ee50bdcdb59         DSE4      2018-07-28   \n",
       "RouteID_001948e9-4675-486d-9ec5-912fd8e0770f         DSE5      2018-08-18   \n",
       "RouteID_001b4ee3-c4f2-467f-932b-c85524d1021f         DLA9      2018-08-15   \n",
       "RouteID_0021a2aa-780f-460d-b09a-f301709e2523         DLA7      2018-08-05   \n",
       "\n",
       "                                             departure_time_utc  \\\n",
       "RouteID_00143bdd-0a6b-49ec-bb35-36593d303e77           16:02:10   \n",
       "RouteID_0016bc70-cb8d-48b0-aa55-8ee50bdcdb59           15:44:41   \n",
       "RouteID_001948e9-4675-486d-9ec5-912fd8e0770f           15:32:04   \n",
       "RouteID_001b4ee3-c4f2-467f-932b-c85524d1021f           15:09:38   \n",
       "RouteID_0021a2aa-780f-460d-b09a-f301709e2523           14:23:26   \n",
       "\n",
       "                                             executor_capacity_cm3  \\\n",
       "RouteID_00143bdd-0a6b-49ec-bb35-36593d303e77             3313071.0   \n",
       "RouteID_0016bc70-cb8d-48b0-aa55-8ee50bdcdb59             4247527.0   \n",
       "RouteID_001948e9-4675-486d-9ec5-912fd8e0770f             4247527.0   \n",
       "RouteID_001b4ee3-c4f2-467f-932b-c85524d1021f             3313071.0   \n",
       "RouteID_0021a2aa-780f-460d-b09a-f301709e2523             3313071.0   \n",
       "\n",
       "                                             route_score  \\\n",
       "RouteID_00143bdd-0a6b-49ec-bb35-36593d303e77        High   \n",
       "RouteID_0016bc70-cb8d-48b0-aa55-8ee50bdcdb59        High   \n",
       "RouteID_001948e9-4675-486d-9ec5-912fd8e0770f        High   \n",
       "RouteID_001b4ee3-c4f2-467f-932b-c85524d1021f        High   \n",
       "RouteID_0021a2aa-780f-460d-b09a-f301709e2523        High   \n",
       "\n",
       "                                                                                          stops  \n",
       "RouteID_00143bdd-0a6b-49ec-bb35-36593d303e77  {'AD': {'lat': 34.099611, 'lng': -118.283062, ...  \n",
       "RouteID_0016bc70-cb8d-48b0-aa55-8ee50bdcdb59  {'AC': {'lat': 47.689446, 'lng': -122.296071, ...  \n",
       "RouteID_001948e9-4675-486d-9ec5-912fd8e0770f  {'AA': {'lat': 47.268001, 'lng': -122.5079, 't...  \n",
       "RouteID_001b4ee3-c4f2-467f-932b-c85524d1021f  {'AB': {'lat': 33.823076, 'lng': -118.058727, ...  \n",
       "RouteID_0021a2aa-780f-460d-b09a-f301709e2523  {'AA': {'lat': 33.84364, 'lng': -117.773651, '...  "
      ]
     },
     "execution_count": 15,
     "metadata": {},
     "output_type": "execute_result"
    }
   ],
   "source": [
    "route_data_tr.head()"
   ]
  },
  {
   "cell_type": "code",
   "execution_count": 16,
   "metadata": {},
   "outputs": [
    {
     "data": {
      "text/plain": [
       "6112"
      ]
     },
     "execution_count": 16,
     "metadata": {},
     "output_type": "execute_result"
    }
   ],
   "source": [
    "len(route_data_tr)"
   ]
  },
  {
   "cell_type": "code",
   "execution_count": 27,
   "metadata": {},
   "outputs": [
    {
     "data": {
      "text/plain": [
       "count         6112\n",
       "unique        4535\n",
       "top       16:00:00\n",
       "freq           178\n",
       "Name: departure_time_utc, dtype: object"
      ]
     },
     "execution_count": 27,
     "metadata": {},
     "output_type": "execute_result"
    }
   ],
   "source": [
    "route_data_tr[\"departure_time_utc\"].describe()"
   ]
  },
  {
   "cell_type": "code",
   "execution_count": 26,
   "metadata": {},
   "outputs": [
    {
     "data": {
      "text/plain": [
       "executor_capacity_cm3\n",
       "3313071.0     4175\n",
       "4247527.0     1926\n",
       "3114853.25      11\n",
       "Name: count, dtype: int64"
      ]
     },
     "execution_count": 26,
     "metadata": {},
     "output_type": "execute_result"
    }
   ],
   "source": [
    "route_data_tr[\"executor_capacity_cm3\"].value_counts()"
   ]
  },
  {
   "cell_type": "code",
   "execution_count": 24,
   "metadata": {},
   "outputs": [
    {
     "data": {
      "text/plain": [
       "count     6112\n",
       "unique      17\n",
       "top       DLA7\n",
       "freq      1133\n",
       "Name: station_code, dtype: object"
      ]
     },
     "execution_count": 24,
     "metadata": {},
     "output_type": "execute_result"
    }
   ],
   "source": [
    "route_data_tr[\"station_code\"].describe()"
   ]
  },
  {
   "cell_type": "code",
   "execution_count": 17,
   "metadata": {},
   "outputs": [
    {
     "data": {
      "text/plain": [
       "count           6112\n",
       "unique            39\n",
       "top       2018-08-14\n",
       "freq             297\n",
       "Name: date_YYYY_MM_DD, dtype: object"
      ]
     },
     "execution_count": 17,
     "metadata": {},
     "output_type": "execute_result"
    }
   ],
   "source": [
    "route_data_tr[\"date_YYYY_MM_DD\"].describe()"
   ]
  },
  {
   "cell_type": "code",
   "execution_count": 18,
   "metadata": {},
   "outputs": [
    {
     "data": {
      "text/plain": [
       "route_score\n",
       "Medium    3292\n",
       "High      2718\n",
       "Low        102\n",
       "Name: count, dtype: int64"
      ]
     },
     "execution_count": 18,
     "metadata": {},
     "output_type": "execute_result"
    }
   ],
   "source": [
    "route_data_tr[\"route_score\"].value_counts()"
   ]
  },
  {
   "cell_type": "code",
   "execution_count": 19,
   "metadata": {},
   "outputs": [
    {
     "data": {
      "text/plain": [
       "{'lat': 34.099611, 'lng': -118.283062, 'type': 'Dropoff', 'zone_id': 'P-12.3C'}"
      ]
     },
     "execution_count": 19,
     "metadata": {},
     "output_type": "execute_result"
    }
   ],
   "source": [
    "route_data_tr.loc[\"RouteID_00143bdd-0a6b-49ec-bb35-36593d303e77\", \"stops\"][\"AD\"]"
   ]
  },
  {
   "cell_type": "code",
   "execution_count": 28,
   "metadata": {},
   "outputs": [
    {
     "data": {
      "text/html": [
       "<div>\n",
       "<style scoped>\n",
       "    .dataframe tbody tr th:only-of-type {\n",
       "        vertical-align: middle;\n",
       "    }\n",
       "\n",
       "    .dataframe tbody tr th {\n",
       "        vertical-align: top;\n",
       "    }\n",
       "\n",
       "    .dataframe thead th {\n",
       "        text-align: right;\n",
       "    }\n",
       "</style>\n",
       "<table border=\"1\" class=\"dataframe\">\n",
       "  <thead>\n",
       "    <tr style=\"text-align: right;\">\n",
       "      <th></th>\n",
       "      <th>AD</th>\n",
       "      <th>AF</th>\n",
       "      <th>AG</th>\n",
       "      <th>BA</th>\n",
       "      <th>BE</th>\n",
       "      <th>BG</th>\n",
       "      <th>BP</th>\n",
       "      <th>BT</th>\n",
       "      <th>BY</th>\n",
       "      <th>BZ</th>\n",
       "      <th>...</th>\n",
       "      <th>GG</th>\n",
       "      <th>PH</th>\n",
       "      <th>EN</th>\n",
       "      <th>QN</th>\n",
       "      <th>SG</th>\n",
       "      <th>SX</th>\n",
       "      <th>SU</th>\n",
       "      <th>UK</th>\n",
       "      <th>VK</th>\n",
       "      <th>BN</th>\n",
       "    </tr>\n",
       "  </thead>\n",
       "  <tbody>\n",
       "    <tr>\n",
       "      <th>RouteID_00143bdd-0a6b-49ec-bb35-36593d303e77</th>\n",
       "      <td>{'AD': 0.0, 'AF': 198.3, 'AG': 264.9, 'BA': 26...</td>\n",
       "      <td>{'AD': 209.8, 'AF': 0.0, 'AG': 348.3, 'BA': 22...</td>\n",
       "      <td>{'AD': 295.7, 'AF': 333.6, 'AG': 0.0, 'BA': 27...</td>\n",
       "      <td>{'AD': 284.0, 'AF': 219.5, 'AG': 288.2, 'BA': ...</td>\n",
       "      <td>{'AD': 107.9, 'AF': 178.9, 'AG': 308.2, 'BA': ...</td>\n",
       "      <td>{'AD': 136.3, 'AF': 90.6, 'AG': 264.2, 'BA': 2...</td>\n",
       "      <td>{'AD': 120.0, 'AF': 267.6, 'AG': 163.7, 'BA': ...</td>\n",
       "      <td>{'AD': 172.7, 'AF': 64.8, 'AG': 317.3, 'BA': 2...</td>\n",
       "      <td>{'AD': 251.3, 'AF': 341.9, 'AG': 82.8, 'BA': 2...</td>\n",
       "      <td>{'AD': 58.8, 'AF': 240.8, 'AG': 279.1, 'BA': 2...</td>\n",
       "      <td>...</td>\n",
       "      <td>NaN</td>\n",
       "      <td>NaN</td>\n",
       "      <td>NaN</td>\n",
       "      <td>NaN</td>\n",
       "      <td>NaN</td>\n",
       "      <td>NaN</td>\n",
       "      <td>NaN</td>\n",
       "      <td>NaN</td>\n",
       "      <td>NaN</td>\n",
       "      <td>NaN</td>\n",
       "    </tr>\n",
       "    <tr>\n",
       "      <th>RouteID_0016bc70-cb8d-48b0-aa55-8ee50bdcdb59</th>\n",
       "      <td>NaN</td>\n",
       "      <td>NaN</td>\n",
       "      <td>{'AC': 426.5, 'AE': 295.1, 'AG': 0.0, 'AN': 12...</td>\n",
       "      <td>{'AC': 321.3, 'AE': 140.3, 'AG': 330.5, 'AN': ...</td>\n",
       "      <td>NaN</td>\n",
       "      <td>NaN</td>\n",
       "      <td>{'AC': 216.7, 'AE': 49.6, 'AG': 377.2, 'AN': 3...</td>\n",
       "      <td>NaN</td>\n",
       "      <td>{'AC': 80.1, 'AE': 102.1, 'AG': 311.7, 'AN': 3...</td>\n",
       "      <td>NaN</td>\n",
       "      <td>...</td>\n",
       "      <td>NaN</td>\n",
       "      <td>NaN</td>\n",
       "      <td>NaN</td>\n",
       "      <td>NaN</td>\n",
       "      <td>NaN</td>\n",
       "      <td>NaN</td>\n",
       "      <td>NaN</td>\n",
       "      <td>NaN</td>\n",
       "      <td>NaN</td>\n",
       "      <td>NaN</td>\n",
       "    </tr>\n",
       "    <tr>\n",
       "      <th>RouteID_001948e9-4675-486d-9ec5-912fd8e0770f</th>\n",
       "      <td>{'AA': 244.7, 'AD': 0.0, 'AJ': 434.0, 'AP': 17...</td>\n",
       "      <td>NaN</td>\n",
       "      <td>NaN</td>\n",
       "      <td>NaN</td>\n",
       "      <td>NaN</td>\n",
       "      <td>NaN</td>\n",
       "      <td>NaN</td>\n",
       "      <td>NaN</td>\n",
       "      <td>NaN</td>\n",
       "      <td>NaN</td>\n",
       "      <td>...</td>\n",
       "      <td>NaN</td>\n",
       "      <td>NaN</td>\n",
       "      <td>NaN</td>\n",
       "      <td>NaN</td>\n",
       "      <td>NaN</td>\n",
       "      <td>NaN</td>\n",
       "      <td>NaN</td>\n",
       "      <td>NaN</td>\n",
       "      <td>NaN</td>\n",
       "      <td>NaN</td>\n",
       "    </tr>\n",
       "    <tr>\n",
       "      <th>RouteID_001b4ee3-c4f2-467f-932b-c85524d1021f</th>\n",
       "      <td>NaN</td>\n",
       "      <td>NaN</td>\n",
       "      <td>{'AB': 290.8, 'AC': 69.8, 'AG': 0.0, 'AI': 310...</td>\n",
       "      <td>NaN</td>\n",
       "      <td>{'AB': 230.4, 'AC': 265.4, 'AG': 319.1, 'AI': ...</td>\n",
       "      <td>NaN</td>\n",
       "      <td>NaN</td>\n",
       "      <td>NaN</td>\n",
       "      <td>{'AB': 227.7, 'AC': 359.7, 'AG': 364.3, 'AI': ...</td>\n",
       "      <td>NaN</td>\n",
       "      <td>...</td>\n",
       "      <td>NaN</td>\n",
       "      <td>NaN</td>\n",
       "      <td>NaN</td>\n",
       "      <td>NaN</td>\n",
       "      <td>NaN</td>\n",
       "      <td>NaN</td>\n",
       "      <td>NaN</td>\n",
       "      <td>NaN</td>\n",
       "      <td>NaN</td>\n",
       "      <td>NaN</td>\n",
       "    </tr>\n",
       "    <tr>\n",
       "      <th>RouteID_0021a2aa-780f-460d-b09a-f301709e2523</th>\n",
       "      <td>NaN</td>\n",
       "      <td>{'AA': 427.0, 'AB': 529.9, 'AF': 0.0, 'AG': 37...</td>\n",
       "      <td>{'AA': 241.8, 'AB': 334.3, 'AF': 359.1, 'AG': ...</td>\n",
       "      <td>NaN</td>\n",
       "      <td>NaN</td>\n",
       "      <td>{'AA': 588.2, 'AB': 473.8, 'AF': 264.2, 'AG': ...</td>\n",
       "      <td>{'AA': 529.7, 'AB': 609.7, 'AF': 329.1, 'AG': ...</td>\n",
       "      <td>NaN</td>\n",
       "      <td>NaN</td>\n",
       "      <td>{'AA': 429.6, 'AB': 515.2, 'AF': 442.5, 'AG': ...</td>\n",
       "      <td>...</td>\n",
       "      <td>NaN</td>\n",
       "      <td>NaN</td>\n",
       "      <td>NaN</td>\n",
       "      <td>NaN</td>\n",
       "      <td>NaN</td>\n",
       "      <td>NaN</td>\n",
       "      <td>NaN</td>\n",
       "      <td>NaN</td>\n",
       "      <td>NaN</td>\n",
       "      <td>NaN</td>\n",
       "    </tr>\n",
       "  </tbody>\n",
       "</table>\n",
       "<p>5 rows × 675 columns</p>\n",
       "</div>"
      ],
      "text/plain": [
       "                                                                                             AD  \\\n",
       "RouteID_00143bdd-0a6b-49ec-bb35-36593d303e77  {'AD': 0.0, 'AF': 198.3, 'AG': 264.9, 'BA': 26...   \n",
       "RouteID_0016bc70-cb8d-48b0-aa55-8ee50bdcdb59                                                NaN   \n",
       "RouteID_001948e9-4675-486d-9ec5-912fd8e0770f  {'AA': 244.7, 'AD': 0.0, 'AJ': 434.0, 'AP': 17...   \n",
       "RouteID_001b4ee3-c4f2-467f-932b-c85524d1021f                                                NaN   \n",
       "RouteID_0021a2aa-780f-460d-b09a-f301709e2523                                                NaN   \n",
       "\n",
       "                                                                                             AF  \\\n",
       "RouteID_00143bdd-0a6b-49ec-bb35-36593d303e77  {'AD': 209.8, 'AF': 0.0, 'AG': 348.3, 'BA': 22...   \n",
       "RouteID_0016bc70-cb8d-48b0-aa55-8ee50bdcdb59                                                NaN   \n",
       "RouteID_001948e9-4675-486d-9ec5-912fd8e0770f                                                NaN   \n",
       "RouteID_001b4ee3-c4f2-467f-932b-c85524d1021f                                                NaN   \n",
       "RouteID_0021a2aa-780f-460d-b09a-f301709e2523  {'AA': 427.0, 'AB': 529.9, 'AF': 0.0, 'AG': 37...   \n",
       "\n",
       "                                                                                             AG  \\\n",
       "RouteID_00143bdd-0a6b-49ec-bb35-36593d303e77  {'AD': 295.7, 'AF': 333.6, 'AG': 0.0, 'BA': 27...   \n",
       "RouteID_0016bc70-cb8d-48b0-aa55-8ee50bdcdb59  {'AC': 426.5, 'AE': 295.1, 'AG': 0.0, 'AN': 12...   \n",
       "RouteID_001948e9-4675-486d-9ec5-912fd8e0770f                                                NaN   \n",
       "RouteID_001b4ee3-c4f2-467f-932b-c85524d1021f  {'AB': 290.8, 'AC': 69.8, 'AG': 0.0, 'AI': 310...   \n",
       "RouteID_0021a2aa-780f-460d-b09a-f301709e2523  {'AA': 241.8, 'AB': 334.3, 'AF': 359.1, 'AG': ...   \n",
       "\n",
       "                                                                                             BA  \\\n",
       "RouteID_00143bdd-0a6b-49ec-bb35-36593d303e77  {'AD': 284.0, 'AF': 219.5, 'AG': 288.2, 'BA': ...   \n",
       "RouteID_0016bc70-cb8d-48b0-aa55-8ee50bdcdb59  {'AC': 321.3, 'AE': 140.3, 'AG': 330.5, 'AN': ...   \n",
       "RouteID_001948e9-4675-486d-9ec5-912fd8e0770f                                                NaN   \n",
       "RouteID_001b4ee3-c4f2-467f-932b-c85524d1021f                                                NaN   \n",
       "RouteID_0021a2aa-780f-460d-b09a-f301709e2523                                                NaN   \n",
       "\n",
       "                                                                                             BE  \\\n",
       "RouteID_00143bdd-0a6b-49ec-bb35-36593d303e77  {'AD': 107.9, 'AF': 178.9, 'AG': 308.2, 'BA': ...   \n",
       "RouteID_0016bc70-cb8d-48b0-aa55-8ee50bdcdb59                                                NaN   \n",
       "RouteID_001948e9-4675-486d-9ec5-912fd8e0770f                                                NaN   \n",
       "RouteID_001b4ee3-c4f2-467f-932b-c85524d1021f  {'AB': 230.4, 'AC': 265.4, 'AG': 319.1, 'AI': ...   \n",
       "RouteID_0021a2aa-780f-460d-b09a-f301709e2523                                                NaN   \n",
       "\n",
       "                                                                                             BG  \\\n",
       "RouteID_00143bdd-0a6b-49ec-bb35-36593d303e77  {'AD': 136.3, 'AF': 90.6, 'AG': 264.2, 'BA': 2...   \n",
       "RouteID_0016bc70-cb8d-48b0-aa55-8ee50bdcdb59                                                NaN   \n",
       "RouteID_001948e9-4675-486d-9ec5-912fd8e0770f                                                NaN   \n",
       "RouteID_001b4ee3-c4f2-467f-932b-c85524d1021f                                                NaN   \n",
       "RouteID_0021a2aa-780f-460d-b09a-f301709e2523  {'AA': 588.2, 'AB': 473.8, 'AF': 264.2, 'AG': ...   \n",
       "\n",
       "                                                                                             BP  \\\n",
       "RouteID_00143bdd-0a6b-49ec-bb35-36593d303e77  {'AD': 120.0, 'AF': 267.6, 'AG': 163.7, 'BA': ...   \n",
       "RouteID_0016bc70-cb8d-48b0-aa55-8ee50bdcdb59  {'AC': 216.7, 'AE': 49.6, 'AG': 377.2, 'AN': 3...   \n",
       "RouteID_001948e9-4675-486d-9ec5-912fd8e0770f                                                NaN   \n",
       "RouteID_001b4ee3-c4f2-467f-932b-c85524d1021f                                                NaN   \n",
       "RouteID_0021a2aa-780f-460d-b09a-f301709e2523  {'AA': 529.7, 'AB': 609.7, 'AF': 329.1, 'AG': ...   \n",
       "\n",
       "                                                                                             BT  \\\n",
       "RouteID_00143bdd-0a6b-49ec-bb35-36593d303e77  {'AD': 172.7, 'AF': 64.8, 'AG': 317.3, 'BA': 2...   \n",
       "RouteID_0016bc70-cb8d-48b0-aa55-8ee50bdcdb59                                                NaN   \n",
       "RouteID_001948e9-4675-486d-9ec5-912fd8e0770f                                                NaN   \n",
       "RouteID_001b4ee3-c4f2-467f-932b-c85524d1021f                                                NaN   \n",
       "RouteID_0021a2aa-780f-460d-b09a-f301709e2523                                                NaN   \n",
       "\n",
       "                                                                                             BY  \\\n",
       "RouteID_00143bdd-0a6b-49ec-bb35-36593d303e77  {'AD': 251.3, 'AF': 341.9, 'AG': 82.8, 'BA': 2...   \n",
       "RouteID_0016bc70-cb8d-48b0-aa55-8ee50bdcdb59  {'AC': 80.1, 'AE': 102.1, 'AG': 311.7, 'AN': 3...   \n",
       "RouteID_001948e9-4675-486d-9ec5-912fd8e0770f                                                NaN   \n",
       "RouteID_001b4ee3-c4f2-467f-932b-c85524d1021f  {'AB': 227.7, 'AC': 359.7, 'AG': 364.3, 'AI': ...   \n",
       "RouteID_0021a2aa-780f-460d-b09a-f301709e2523                                                NaN   \n",
       "\n",
       "                                                                                             BZ  \\\n",
       "RouteID_00143bdd-0a6b-49ec-bb35-36593d303e77  {'AD': 58.8, 'AF': 240.8, 'AG': 279.1, 'BA': 2...   \n",
       "RouteID_0016bc70-cb8d-48b0-aa55-8ee50bdcdb59                                                NaN   \n",
       "RouteID_001948e9-4675-486d-9ec5-912fd8e0770f                                                NaN   \n",
       "RouteID_001b4ee3-c4f2-467f-932b-c85524d1021f                                                NaN   \n",
       "RouteID_0021a2aa-780f-460d-b09a-f301709e2523  {'AA': 429.6, 'AB': 515.2, 'AF': 442.5, 'AG': ...   \n",
       "\n",
       "                                              ...   GG   PH   EN   QN   SG  \\\n",
       "RouteID_00143bdd-0a6b-49ec-bb35-36593d303e77  ...  NaN  NaN  NaN  NaN  NaN   \n",
       "RouteID_0016bc70-cb8d-48b0-aa55-8ee50bdcdb59  ...  NaN  NaN  NaN  NaN  NaN   \n",
       "RouteID_001948e9-4675-486d-9ec5-912fd8e0770f  ...  NaN  NaN  NaN  NaN  NaN   \n",
       "RouteID_001b4ee3-c4f2-467f-932b-c85524d1021f  ...  NaN  NaN  NaN  NaN  NaN   \n",
       "RouteID_0021a2aa-780f-460d-b09a-f301709e2523  ...  NaN  NaN  NaN  NaN  NaN   \n",
       "\n",
       "                                               SX   SU   UK   VK   BN  \n",
       "RouteID_00143bdd-0a6b-49ec-bb35-36593d303e77  NaN  NaN  NaN  NaN  NaN  \n",
       "RouteID_0016bc70-cb8d-48b0-aa55-8ee50bdcdb59  NaN  NaN  NaN  NaN  NaN  \n",
       "RouteID_001948e9-4675-486d-9ec5-912fd8e0770f  NaN  NaN  NaN  NaN  NaN  \n",
       "RouteID_001b4ee3-c4f2-467f-932b-c85524d1021f  NaN  NaN  NaN  NaN  NaN  \n",
       "RouteID_0021a2aa-780f-460d-b09a-f301709e2523  NaN  NaN  NaN  NaN  NaN  \n",
       "\n",
       "[5 rows x 675 columns]"
      ]
     },
     "execution_count": 28,
     "metadata": {},
     "output_type": "execute_result"
    }
   ],
   "source": [
    "travel_times_tr.head()"
   ]
  },
  {
   "cell_type": "code",
   "execution_count": 30,
   "metadata": {},
   "outputs": [],
   "source": [
    "s = travel_times_tr.loc[\"RouteID_00143bdd-0a6b-49ec-bb35-36593d303e77\"]\n",
    "s = s[~s.isna()]"
   ]
  },
  {
   "cell_type": "code",
   "execution_count": 31,
   "metadata": {},
   "outputs": [
    {
     "data": {
      "text/plain": [
       "AD    {'AD': 0.0, 'AF': 198.3, 'AG': 264.9, 'BA': 26...\n",
       "AF    {'AD': 209.8, 'AF': 0.0, 'AG': 348.3, 'BA': 22...\n",
       "AG    {'AD': 295.7, 'AF': 333.6, 'AG': 0.0, 'BA': 27...\n",
       "BA    {'AD': 284.0, 'AF': 219.5, 'AG': 288.2, 'BA': ...\n",
       "BE    {'AD': 107.9, 'AF': 178.9, 'AG': 308.2, 'BA': ...\n",
       "                            ...                        \n",
       "YY    {'AD': 88.1, 'AF': 144.1, 'AG': 290.0, 'BA': 2...\n",
       "ZB    {'AD': 82.2, 'AF': 192.4, 'AG': 291.3, 'BA': 2...\n",
       "ZE    {'AD': 342.9, 'AF': 260.4, 'AG': 281.4, 'BA': ...\n",
       "ZP    {'AD': 120.4, 'AF': 320.0, 'AG': 282.6, 'BA': ...\n",
       "ZU    {'AD': 88.5, 'AF': 265.5, 'AG': 202.1, 'BA': 2...\n",
       "Name: RouteID_00143bdd-0a6b-49ec-bb35-36593d303e77, Length: 119, dtype: object"
      ]
     },
     "execution_count": 31,
     "metadata": {},
     "output_type": "execute_result"
    }
   ],
   "source": [
    "s"
   ]
  },
  {
   "cell_type": "code",
   "execution_count": 20,
   "metadata": {},
   "outputs": [
    {
     "data": {
      "text/plain": [
       "198.3"
      ]
     },
     "execution_count": 20,
     "metadata": {},
     "output_type": "execute_result"
    }
   ],
   "source": [
    "travel_times_tr.loc[\"RouteID_00143bdd-0a6b-49ec-bb35-36593d303e77\", \"AD\"][\"AF\"]"
   ]
  },
  {
   "cell_type": "code",
   "execution_count": 65,
   "metadata": {},
   "outputs": [
    {
     "data": {
      "text/plain": [
       "RouteID_00143bdd-0a6b-49ec-bb35-36593d303e77    {'AD': 105, 'AF': 47, 'AG': 4, 'BA': 33, 'BE':...\n",
       "RouteID_0016bc70-cb8d-48b0-aa55-8ee50bdcdb59    {'AC': 36, 'AE': 28, 'AG': 104, 'AN': 94, 'AS'...\n",
       "RouteID_001948e9-4675-486d-9ec5-912fd8e0770f    {'AA': 58, 'AD': 94, 'AJ': 41, 'AP': 124, 'AR'...\n",
       "RouteID_001b4ee3-c4f2-467f-932b-c85524d1021f    {'AB': 122, 'AC': 39, 'AG': 27, 'AI': 16, 'AU'...\n",
       "RouteID_0021a2aa-780f-460d-b09a-f301709e2523    {'AA': 43, 'AB': 54, 'AF': 72, 'AG': 31, 'AI':...\n",
       "                                                                      ...                        \n",
       "RouteID_ffd16e94-e3db-435f-a128-1ddcb2a34e54    {'AA': 64, 'AG': 57, 'AH': 65, 'AK': 36, 'BG':...\n",
       "RouteID_ffe98097-93df-44b0-9c45-4fedbafae3f3    {'AC': 63, 'AF': 90, 'AH': 42, 'AJ': 46, 'AL':...\n",
       "RouteID_ffebb6fc-ce81-46db-b2a1-2750c0333185    {'AA': 102, 'AE': 158, 'AF': 125, 'AJ': 110, '...\n",
       "RouteID_fff2548c-1069-4340-8e50-08420efe435d    {'AQ': 10, 'AU': 48, 'AW': 65, 'BC': 63, 'BM':...\n",
       "RouteID_fffd257c-3041-4736-be7a-5efea8af1173    {'AE': 25, 'AG': 42, 'AI': 127, 'AL': 80, 'AO'...\n",
       "Name: actual, Length: 6112, dtype: object"
      ]
     },
     "execution_count": 65,
     "metadata": {},
     "output_type": "execute_result"
    }
   ],
   "source": [
    "actual_sequences_tr[\"actual\"]"
   ]
  },
  {
   "cell_type": "code",
   "execution_count": 21,
   "metadata": {},
   "outputs": [
    {
     "data": {
      "text/plain": [
       "array([{'AD': 105, 'AF': 47, 'AG': 4, 'BA': 33, 'BE': 109, 'BG': 53, 'BP': 67, 'BT': 49, 'BY': 7, 'BZ': 61, 'CA': 43, 'CG': 26, 'CK': 86, 'CM': 96, 'CO': 54, 'CP': 36, 'CW': 8, 'DJ': 28, 'DL': 15, 'DN': 37, 'DQ': 35, 'EC': 106, 'EH': 101, 'EO': 56, 'EX': 104, 'EY': 69, 'FF': 88, 'FH': 12, 'FY': 76, 'GB': 81, 'GN': 42, 'GP': 2, 'GS': 64, 'GU': 16, 'GW': 74, 'HB': 97, 'HG': 87, 'HN': 40, 'HO': 80, 'HR': 111, 'HT': 3, 'HW': 93, 'IA': 57, 'IJ': 20, 'IM': 68, 'IP': 94, 'IW': 23, 'JH': 10, 'JM': 92, 'KA': 48, 'KG': 55, 'KJ': 41, 'KM': 51, 'KN': 17, 'KP': 22, 'KU': 63, 'LB': 11, 'LD': 46, 'LG': 27, 'LK': 84, 'LY': 83, 'MA': 66, 'MO': 89, 'MQ': 70, 'MR': 25, 'MW': 50, 'NE': 45, 'NL': 29, 'NM': 79, 'NR': 18, 'NU': 65, 'PB': 110, 'PJ': 73, 'PS': 82, 'PT': 14, 'PX': 117, 'QE': 85, 'QM': 5, 'QO': 107, 'QX': 118, 'RA': 71, 'RG': 59, 'RY': 75, 'SC': 19, 'SD': 115, 'SF': 6, 'SI': 95, 'SQ': 99, 'TC': 44, 'TG': 1, 'TH': 24, 'TK': 13, 'TQ': 91, 'TY': 103, 'UI': 52, 'UJ': 38, 'UN': 108, 'UR': 30, 'US': 72, 'UU': 114, 'UW': 39, 'VA': 32, 'VC': 60, 'VE': 0, 'VW': 9, 'WJ': 113, 'WS': 78, 'XB': 21, 'XD': 98, 'YE': 58, 'YH': 34, 'YJ': 102, 'YN': 90, 'YR': 77, 'YY': 116, 'ZB': 112, 'ZE': 31, 'ZP': 100, 'ZU': 62}],\n",
       "      dtype=object)"
      ]
     },
     "execution_count": 21,
     "metadata": {},
     "output_type": "execute_result"
    }
   ],
   "source": [
    "actual_sequences_tr.loc[\"RouteID_00143bdd-0a6b-49ec-bb35-36593d303e77\"].values"
   ]
  },
  {
   "cell_type": "code",
   "execution_count": 74,
   "metadata": {},
   "outputs": [
    {
     "data": {
      "text/html": [
       "<div>\n",
       "<style scoped>\n",
       "    .dataframe tbody tr th:only-of-type {\n",
       "        vertical-align: middle;\n",
       "    }\n",
       "\n",
       "    .dataframe tbody tr th {\n",
       "        vertical-align: top;\n",
       "    }\n",
       "\n",
       "    .dataframe thead th {\n",
       "        text-align: right;\n",
       "    }\n",
       "</style>\n",
       "<table border=\"1\" class=\"dataframe\">\n",
       "  <thead>\n",
       "    <tr style=\"text-align: right;\">\n",
       "      <th></th>\n",
       "      <th>AD</th>\n",
       "      <th>AF</th>\n",
       "      <th>AG</th>\n",
       "      <th>BA</th>\n",
       "      <th>BE</th>\n",
       "    </tr>\n",
       "  </thead>\n",
       "  <tbody>\n",
       "    <tr>\n",
       "      <th>RouteID_00143bdd-0a6b-49ec-bb35-36593d303e77</th>\n",
       "      <td>{'PackageID_9d7fdd03-f2cf-4c6f-9128-028258fc09...</td>\n",
       "      <td>{'PackageID_15c6a204-ec5f-4ced-9c3d-472316cc77...</td>\n",
       "      <td>{'PackageID_3b28f781-242e-416e-9575-84c7188b82...</td>\n",
       "      <td>{'PackageID_a18e36e0-6b5a-45b7-bf7a-7c3a15bd5a...</td>\n",
       "      <td>{'PackageID_22c8f630-8ab9-40d5-a36d-38ef01761b...</td>\n",
       "    </tr>\n",
       "    <tr>\n",
       "      <th>RouteID_0016bc70-cb8d-48b0-aa55-8ee50bdcdb59</th>\n",
       "      <td>NaN</td>\n",
       "      <td>NaN</td>\n",
       "      <td>{'PackageID_62bd35ae-6fe9-40c0-8c58-0d1021a796...</td>\n",
       "      <td>{'PackageID_80d944eb-442a-422f-9d40-3ad4bb73d7...</td>\n",
       "      <td>NaN</td>\n",
       "    </tr>\n",
       "    <tr>\n",
       "      <th>RouteID_001948e9-4675-486d-9ec5-912fd8e0770f</th>\n",
       "      <td>{'PackageID_de2b05b8-2186-47b2-b0f1-640cd01b65...</td>\n",
       "      <td>NaN</td>\n",
       "      <td>NaN</td>\n",
       "      <td>NaN</td>\n",
       "      <td>NaN</td>\n",
       "    </tr>\n",
       "    <tr>\n",
       "      <th>RouteID_001b4ee3-c4f2-467f-932b-c85524d1021f</th>\n",
       "      <td>NaN</td>\n",
       "      <td>NaN</td>\n",
       "      <td>{'PackageID_1520728c-7a38-45a1-9e5d-123eb6d023...</td>\n",
       "      <td>NaN</td>\n",
       "      <td>{'PackageID_d3c08539-cea1-4079-a0a2-f064fc2083...</td>\n",
       "    </tr>\n",
       "    <tr>\n",
       "      <th>RouteID_0021a2aa-780f-460d-b09a-f301709e2523</th>\n",
       "      <td>NaN</td>\n",
       "      <td>{'PackageID_ef2e9ad8-43a7-4043-9144-faf6730da3...</td>\n",
       "      <td>{'PackageID_9f9e7677-9f0f-42c4-ac05-8015c1447d...</td>\n",
       "      <td>NaN</td>\n",
       "      <td>NaN</td>\n",
       "    </tr>\n",
       "    <tr>\n",
       "      <th>...</th>\n",
       "      <td>...</td>\n",
       "      <td>...</td>\n",
       "      <td>...</td>\n",
       "      <td>...</td>\n",
       "      <td>...</td>\n",
       "    </tr>\n",
       "    <tr>\n",
       "      <th>RouteID_ffd16e94-e3db-435f-a128-1ddcb2a34e54</th>\n",
       "      <td>NaN</td>\n",
       "      <td>NaN</td>\n",
       "      <td>{'PackageID_156384dc-0716-43b2-99d5-d07e646c94...</td>\n",
       "      <td>NaN</td>\n",
       "      <td>NaN</td>\n",
       "    </tr>\n",
       "    <tr>\n",
       "      <th>RouteID_ffe98097-93df-44b0-9c45-4fedbafae3f3</th>\n",
       "      <td>NaN</td>\n",
       "      <td>{'PackageID_77336e1e-0060-48ea-9576-502672f6ac...</td>\n",
       "      <td>NaN</td>\n",
       "      <td>NaN</td>\n",
       "      <td>{'PackageID_40330055-82e3-4b22-8ab7-baa95d8a21...</td>\n",
       "    </tr>\n",
       "    <tr>\n",
       "      <th>RouteID_ffebb6fc-ce81-46db-b2a1-2750c0333185</th>\n",
       "      <td>NaN</td>\n",
       "      <td>{'PackageID_37d054d6-3420-49a7-b336-82d76d4040...</td>\n",
       "      <td>NaN</td>\n",
       "      <td>NaN</td>\n",
       "      <td>NaN</td>\n",
       "    </tr>\n",
       "    <tr>\n",
       "      <th>RouteID_fff2548c-1069-4340-8e50-08420efe435d</th>\n",
       "      <td>NaN</td>\n",
       "      <td>NaN</td>\n",
       "      <td>NaN</td>\n",
       "      <td>NaN</td>\n",
       "      <td>NaN</td>\n",
       "    </tr>\n",
       "    <tr>\n",
       "      <th>RouteID_fffd257c-3041-4736-be7a-5efea8af1173</th>\n",
       "      <td>NaN</td>\n",
       "      <td>NaN</td>\n",
       "      <td>{'PackageID_c6d0e7e4-0be0-43b6-a8c9-ae62f0c288...</td>\n",
       "      <td>NaN</td>\n",
       "      <td>NaN</td>\n",
       "    </tr>\n",
       "  </tbody>\n",
       "</table>\n",
       "<p>6112 rows × 5 columns</p>\n",
       "</div>"
      ],
      "text/plain": [
       "                                                                                             AD  \\\n",
       "RouteID_00143bdd-0a6b-49ec-bb35-36593d303e77  {'PackageID_9d7fdd03-f2cf-4c6f-9128-028258fc09...   \n",
       "RouteID_0016bc70-cb8d-48b0-aa55-8ee50bdcdb59                                                NaN   \n",
       "RouteID_001948e9-4675-486d-9ec5-912fd8e0770f  {'PackageID_de2b05b8-2186-47b2-b0f1-640cd01b65...   \n",
       "RouteID_001b4ee3-c4f2-467f-932b-c85524d1021f                                                NaN   \n",
       "RouteID_0021a2aa-780f-460d-b09a-f301709e2523                                                NaN   \n",
       "...                                                                                         ...   \n",
       "RouteID_ffd16e94-e3db-435f-a128-1ddcb2a34e54                                                NaN   \n",
       "RouteID_ffe98097-93df-44b0-9c45-4fedbafae3f3                                                NaN   \n",
       "RouteID_ffebb6fc-ce81-46db-b2a1-2750c0333185                                                NaN   \n",
       "RouteID_fff2548c-1069-4340-8e50-08420efe435d                                                NaN   \n",
       "RouteID_fffd257c-3041-4736-be7a-5efea8af1173                                                NaN   \n",
       "\n",
       "                                                                                             AF  \\\n",
       "RouteID_00143bdd-0a6b-49ec-bb35-36593d303e77  {'PackageID_15c6a204-ec5f-4ced-9c3d-472316cc77...   \n",
       "RouteID_0016bc70-cb8d-48b0-aa55-8ee50bdcdb59                                                NaN   \n",
       "RouteID_001948e9-4675-486d-9ec5-912fd8e0770f                                                NaN   \n",
       "RouteID_001b4ee3-c4f2-467f-932b-c85524d1021f                                                NaN   \n",
       "RouteID_0021a2aa-780f-460d-b09a-f301709e2523  {'PackageID_ef2e9ad8-43a7-4043-9144-faf6730da3...   \n",
       "...                                                                                         ...   \n",
       "RouteID_ffd16e94-e3db-435f-a128-1ddcb2a34e54                                                NaN   \n",
       "RouteID_ffe98097-93df-44b0-9c45-4fedbafae3f3  {'PackageID_77336e1e-0060-48ea-9576-502672f6ac...   \n",
       "RouteID_ffebb6fc-ce81-46db-b2a1-2750c0333185  {'PackageID_37d054d6-3420-49a7-b336-82d76d4040...   \n",
       "RouteID_fff2548c-1069-4340-8e50-08420efe435d                                                NaN   \n",
       "RouteID_fffd257c-3041-4736-be7a-5efea8af1173                                                NaN   \n",
       "\n",
       "                                                                                             AG  \\\n",
       "RouteID_00143bdd-0a6b-49ec-bb35-36593d303e77  {'PackageID_3b28f781-242e-416e-9575-84c7188b82...   \n",
       "RouteID_0016bc70-cb8d-48b0-aa55-8ee50bdcdb59  {'PackageID_62bd35ae-6fe9-40c0-8c58-0d1021a796...   \n",
       "RouteID_001948e9-4675-486d-9ec5-912fd8e0770f                                                NaN   \n",
       "RouteID_001b4ee3-c4f2-467f-932b-c85524d1021f  {'PackageID_1520728c-7a38-45a1-9e5d-123eb6d023...   \n",
       "RouteID_0021a2aa-780f-460d-b09a-f301709e2523  {'PackageID_9f9e7677-9f0f-42c4-ac05-8015c1447d...   \n",
       "...                                                                                         ...   \n",
       "RouteID_ffd16e94-e3db-435f-a128-1ddcb2a34e54  {'PackageID_156384dc-0716-43b2-99d5-d07e646c94...   \n",
       "RouteID_ffe98097-93df-44b0-9c45-4fedbafae3f3                                                NaN   \n",
       "RouteID_ffebb6fc-ce81-46db-b2a1-2750c0333185                                                NaN   \n",
       "RouteID_fff2548c-1069-4340-8e50-08420efe435d                                                NaN   \n",
       "RouteID_fffd257c-3041-4736-be7a-5efea8af1173  {'PackageID_c6d0e7e4-0be0-43b6-a8c9-ae62f0c288...   \n",
       "\n",
       "                                                                                             BA  \\\n",
       "RouteID_00143bdd-0a6b-49ec-bb35-36593d303e77  {'PackageID_a18e36e0-6b5a-45b7-bf7a-7c3a15bd5a...   \n",
       "RouteID_0016bc70-cb8d-48b0-aa55-8ee50bdcdb59  {'PackageID_80d944eb-442a-422f-9d40-3ad4bb73d7...   \n",
       "RouteID_001948e9-4675-486d-9ec5-912fd8e0770f                                                NaN   \n",
       "RouteID_001b4ee3-c4f2-467f-932b-c85524d1021f                                                NaN   \n",
       "RouteID_0021a2aa-780f-460d-b09a-f301709e2523                                                NaN   \n",
       "...                                                                                         ...   \n",
       "RouteID_ffd16e94-e3db-435f-a128-1ddcb2a34e54                                                NaN   \n",
       "RouteID_ffe98097-93df-44b0-9c45-4fedbafae3f3                                                NaN   \n",
       "RouteID_ffebb6fc-ce81-46db-b2a1-2750c0333185                                                NaN   \n",
       "RouteID_fff2548c-1069-4340-8e50-08420efe435d                                                NaN   \n",
       "RouteID_fffd257c-3041-4736-be7a-5efea8af1173                                                NaN   \n",
       "\n",
       "                                                                                             BE  \n",
       "RouteID_00143bdd-0a6b-49ec-bb35-36593d303e77  {'PackageID_22c8f630-8ab9-40d5-a36d-38ef01761b...  \n",
       "RouteID_0016bc70-cb8d-48b0-aa55-8ee50bdcdb59                                                NaN  \n",
       "RouteID_001948e9-4675-486d-9ec5-912fd8e0770f                                                NaN  \n",
       "RouteID_001b4ee3-c4f2-467f-932b-c85524d1021f  {'PackageID_d3c08539-cea1-4079-a0a2-f064fc2083...  \n",
       "RouteID_0021a2aa-780f-460d-b09a-f301709e2523                                                NaN  \n",
       "...                                                                                         ...  \n",
       "RouteID_ffd16e94-e3db-435f-a128-1ddcb2a34e54                                                NaN  \n",
       "RouteID_ffe98097-93df-44b0-9c45-4fedbafae3f3  {'PackageID_40330055-82e3-4b22-8ab7-baa95d8a21...  \n",
       "RouteID_ffebb6fc-ce81-46db-b2a1-2750c0333185                                                NaN  \n",
       "RouteID_fff2548c-1069-4340-8e50-08420efe435d                                                NaN  \n",
       "RouteID_fffd257c-3041-4736-be7a-5efea8af1173                                                NaN  \n",
       "\n",
       "[6112 rows x 5 columns]"
      ]
     },
     "execution_count": 74,
     "metadata": {},
     "output_type": "execute_result"
    }
   ],
   "source": [
    "package_data_tr.head().T"
   ]
  },
  {
   "cell_type": "code",
   "execution_count": 70,
   "metadata": {},
   "outputs": [
    {
     "data": {
      "text/plain": [
       "{'PackageID_9d7fdd03-f2cf-4c6f-9128-028258fc09ea': {'scan_status': 'DELIVERED',\n",
       "  'time_window': {'start_time_utc': nan, 'end_time_utc': nan},\n",
       "  'planned_service_time_seconds': 59.3,\n",
       "  'dimensions': {'depth_cm': 25.4, 'height_cm': 7.6, 'width_cm': 17.8}},\n",
       " 'PackageID_5541e679-b7bd-4992-b288-e862f6c84ae7': {'scan_status': 'DELIVERED',\n",
       "  'time_window': {'start_time_utc': '2018-07-27 16:00:00',\n",
       "   'end_time_utc': '2018-07-28 00:00:00'},\n",
       "  'planned_service_time_seconds': 59.3,\n",
       "  'dimensions': {'depth_cm': 25.4, 'height_cm': 12.7, 'width_cm': 17.8}},\n",
       " 'PackageID_84d0295b-1adb-4a33-a65e-f7d6247c7a07': {'scan_status': 'DELIVERED',\n",
       "  'time_window': {'start_time_utc': nan, 'end_time_utc': nan},\n",
       "  'planned_service_time_seconds': 59.3,\n",
       "  'dimensions': {'depth_cm': 39.4, 'height_cm': 7.6, 'width_cm': 31.8}}}"
      ]
     },
     "execution_count": 70,
     "metadata": {},
     "output_type": "execute_result"
    }
   ],
   "source": [
    "package_data_tr.loc[\"AD\", \"RouteID_00143bdd-0a6b-49ec-bb35-36593d303e77\"]"
   ]
  },
  {
   "cell_type": "code",
   "execution_count": 37,
   "metadata": {},
   "outputs": [],
   "source": [
    "route_stops = package_data_tr.iloc[:, 0]\n",
    "num_packages = [len(s.keys()) for s in route_stops[~route_stops.isna()]]"
   ]
  },
  {
   "cell_type": "code",
   "execution_count": 55,
   "metadata": {},
   "outputs": [],
   "source": [
    "packages = list(route_stops[~route_stops.isna()][0].values())"
   ]
  },
  {
   "cell_type": "code",
   "execution_count": 56,
   "metadata": {},
   "outputs": [
    {
     "data": {
      "text/plain": [
       "[{'scan_status': 'DELIVERED',\n",
       "  'time_window': {'start_time_utc': nan, 'end_time_utc': nan},\n",
       "  'planned_service_time_seconds': 59.3,\n",
       "  'dimensions': {'depth_cm': 25.4, 'height_cm': 7.6, 'width_cm': 17.8}},\n",
       " {'scan_status': 'DELIVERED',\n",
       "  'time_window': {'start_time_utc': '2018-07-27 16:00:00',\n",
       "   'end_time_utc': '2018-07-28 00:00:00'},\n",
       "  'planned_service_time_seconds': 59.3,\n",
       "  'dimensions': {'depth_cm': 25.4, 'height_cm': 12.7, 'width_cm': 17.8}},\n",
       " {'scan_status': 'DELIVERED',\n",
       "  'time_window': {'start_time_utc': nan, 'end_time_utc': nan},\n",
       "  'planned_service_time_seconds': 59.3,\n",
       "  'dimensions': {'depth_cm': 39.4, 'height_cm': 7.6, 'width_cm': 31.8}}]"
      ]
     },
     "execution_count": 56,
     "metadata": {},
     "output_type": "execute_result"
    }
   ],
   "source": [
    "packages"
   ]
  },
  {
   "cell_type": "code",
   "execution_count": 60,
   "metadata": {},
   "outputs": [
    {
     "data": {
      "text/plain": [
       "str"
      ]
     },
     "execution_count": 60,
     "metadata": {},
     "output_type": "execute_result"
    }
   ],
   "source": [
    "type(packages[1][\"time_window\"][\"start_time_utc\"])"
   ]
  },
  {
   "cell_type": "code",
   "execution_count": 62,
   "metadata": {},
   "outputs": [
    {
     "data": {
      "text/plain": [
       "[{'scan_status': 'DELIVERED',\n",
       "  'time_window': {'start_time_utc': '2018-07-27 16:00:00',\n",
       "   'end_time_utc': '2018-07-28 00:00:00'},\n",
       "  'planned_service_time_seconds': 59.3,\n",
       "  'dimensions': {'depth_cm': 25.4, 'height_cm': 12.7, 'width_cm': 17.8}}]"
      ]
     },
     "execution_count": 62,
     "metadata": {},
     "output_type": "execute_result"
    }
   ],
   "source": [
    "[p for p in packages if isinstance(p[\"time_window\"][\"start_time_utc\"], str)]"
   ]
  },
  {
   "cell_type": "code",
   "execution_count": 23,
   "metadata": {},
   "outputs": [
    {
     "data": {
      "text/plain": [
       "0.631274537780778"
      ]
     },
     "execution_count": 23,
     "metadata": {},
     "output_type": "execute_result"
    }
   ],
   "source": [
    "invalid_sequence_scores_tr[\"RouteID_00143bdd-0a6b-49ec-bb35-36593d303e77\"]"
   ]
  },
  {
   "cell_type": "code",
   "execution_count": null,
   "metadata": {},
   "outputs": [],
   "source": []
  }
 ],
 "metadata": {
  "kernelspec": {
   "display_name": ".venv",
   "language": "python",
   "name": "python3"
  },
  "language_info": {
   "codemirror_mode": {
    "name": "ipython",
    "version": 3
   },
   "file_extension": ".py",
   "mimetype": "text/x-python",
   "name": "python",
   "nbconvert_exporter": "python",
   "pygments_lexer": "ipython3",
   "version": "3.8.1"
  },
  "orig_nbformat": 4,
  "vscode": {
   "interpreter": {
    "hash": "f7be4b4938099d2185f1a21729d5457732e4a9f9b6c452a01c646c4f73f1993c"
   }
  }
 },
 "nbformat": 4,
 "nbformat_minor": 2
}
